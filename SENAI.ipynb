{
  "nbformat": 4,
  "nbformat_minor": 0,
  "metadata": {
    "colab": {
      "provenance": [],
      "authorship_tag": "ABX9TyMDCHGCsYmN3OjamuAyp+Qi",
      "include_colab_link": true
    },
    "kernelspec": {
      "name": "python3",
      "display_name": "Python 3"
    },
    "language_info": {
      "name": "python"
    }
  },
  "cells": [
    {
      "cell_type": "markdown",
      "metadata": {
        "id": "view-in-github",
        "colab_type": "text"
      },
      "source": [
        "<a href=\"https://colab.research.google.com/github/QueziaGui/PythonParaIndustria4.0/blob/main/SENAI.ipynb\" target=\"_parent\"><img src=\"https://colab.research.google.com/assets/colab-badge.svg\" alt=\"Open In Colab\"/></a>"
      ]
    },
    {
      "cell_type": "code",
      "execution_count": null,
      "metadata": {
        "id": "8eL8VclNmmGp"
      },
      "outputs": [],
      "source": []
    },
    {
      "cell_type": "code",
      "source": [
        "\n",
        " lista_lista= [['cola','suco ','suco'], ['tomate', 'laranja', 'cebola'], ['mamap', 'coloral','alho']]\n",
        "sorted(lista_lista)\n",
        "del(lista_lista[2])\n",
        "print(lista_lista)\n",
        "lista_lista.insert(0, ['tomate', 'laranja', 'cebola'])\n",
        "print(lista_lista)\n",
        "\n",
        "lista_lista.append(['pimenta'])\n",
        "lista_lista.append(['macarrão', 'torta', açafrão])\n",
        "for item in lista_lista:\n",
        "  print(item)\n",
        "print(\"-----\")\n",
        "for item in lista_lista:\n",
        "  print(item)\n"
      ],
      "metadata": {
        "colab": {
          "base_uri": "https://localhost:8080/",
          "height": 245
        },
        "id": "OaaKO5l0mv0o",
        "outputId": "837f4b2c-580a-430b-8518-41c40332ef4c"
      },
      "execution_count": 42,
      "outputs": [
        {
          "output_type": "stream",
          "name": "stdout",
          "text": [
            "[['cola', 'suco ', 'suco'], ['tomate', 'laranja', 'cebola']]\n",
            "[['tomate', 'laranja', 'cebola'], ['cola', 'suco ', 'suco'], ['tomate', 'laranja', 'cebola']]\n"
          ]
        },
        {
          "output_type": "error",
          "ename": "NameError",
          "evalue": "name 'açafrão' is not defined",
          "traceback": [
            "\u001b[0;31m---------------------------------------------------------------------------\u001b[0m",
            "\u001b[0;31mNameError\u001b[0m                                 Traceback (most recent call last)",
            "\u001b[0;32m<ipython-input-42-ac304b2dff8e>\u001b[0m in \u001b[0;36m<cell line: 0>\u001b[0;34m()\u001b[0m\n\u001b[1;32m      7\u001b[0m \u001b[0;34m\u001b[0m\u001b[0m\n\u001b[1;32m      8\u001b[0m \u001b[0mlista_lista\u001b[0m\u001b[0;34m.\u001b[0m\u001b[0mappend\u001b[0m\u001b[0;34m(\u001b[0m\u001b[0;34m[\u001b[0m\u001b[0;34m'pimenta'\u001b[0m\u001b[0;34m]\u001b[0m\u001b[0;34m)\u001b[0m\u001b[0;34m\u001b[0m\u001b[0;34m\u001b[0m\u001b[0m\n\u001b[0;32m----> 9\u001b[0;31m \u001b[0mlista_lista\u001b[0m\u001b[0;34m.\u001b[0m\u001b[0mappend\u001b[0m\u001b[0;34m(\u001b[0m\u001b[0;34m[\u001b[0m\u001b[0;34m'macarrão'\u001b[0m\u001b[0;34m,\u001b[0m \u001b[0;34m'torta'\u001b[0m\u001b[0;34m,\u001b[0m \u001b[0maçafrão\u001b[0m\u001b[0;34m]\u001b[0m\u001b[0;34m)\u001b[0m\u001b[0;34m\u001b[0m\u001b[0;34m\u001b[0m\u001b[0m\n\u001b[0m\u001b[1;32m     10\u001b[0m \u001b[0;32mfor\u001b[0m \u001b[0mitem\u001b[0m \u001b[0;32min\u001b[0m \u001b[0mlista_lista\u001b[0m\u001b[0;34m:\u001b[0m\u001b[0;34m\u001b[0m\u001b[0;34m\u001b[0m\u001b[0m\n\u001b[1;32m     11\u001b[0m  \u001b[0mprint\u001b[0m\u001b[0;34m(\u001b[0m\u001b[0mitem\u001b[0m\u001b[0;34m)\u001b[0m\u001b[0;34m\u001b[0m\u001b[0;34m\u001b[0m\u001b[0m\n",
            "\u001b[0;31mNameError\u001b[0m: name 'açafrão' is not defined"
          ]
        }
      ]
    },
    {
      "cell_type": "code",
      "source": [
        "rage"
      ],
      "metadata": {
        "id": "IgHK8AI5zX5Q"
      },
      "execution_count": null,
      "outputs": []
    },
    {
      "source": [
        "lista_lista= [['cola','suco ','suco'], ['tomate', 'laranja', 'cebola'], ['mamap', 'coloral','alho']]\n",
        "sorted(lista_lista)\n",
        "del(lista_lista[2])\n",
        "print(lista_lista)\n",
        "lista_lista.insert(0, ['tomate', 'laranja', 'cebola'])\n",
        "print(lista_lista)\n",
        "\n",
        "lista_lista.append(['pimenta'])\n",
        "lista_lista.append(['macarrão', 'torta', 'açafrão'])\n",
        "for item in lista_lista:\n",
        "  print(item)\n",
        "print(\"-----\")\n",
        "for item in lista_lista:\n",
        "  print(item)\n",
        "\n",
        "# Changed: Call the 'range' function instead of 'rage'\n",
        "for i in range(5):\n",
        "  print(i)"
      ],
      "cell_type": "code",
      "metadata": {
        "colab": {
          "base_uri": "https://localhost:8080/"
        },
        "id": "WlesnsCG09oo",
        "outputId": "3570e751-5500-446e-8183-403da6c7a06b"
      },
      "execution_count": 46,
      "outputs": [
        {
          "output_type": "stream",
          "name": "stdout",
          "text": [
            "[['cola', 'suco ', 'suco'], ['tomate', 'laranja', 'cebola']]\n",
            "[['tomate', 'laranja', 'cebola'], ['cola', 'suco ', 'suco'], ['tomate', 'laranja', 'cebola']]\n",
            "['tomate', 'laranja', 'cebola']\n",
            "['cola', 'suco ', 'suco']\n",
            "['tomate', 'laranja', 'cebola']\n",
            "['pimenta']\n",
            "['macarrão', 'torta', 'açafrão']\n",
            "-----\n",
            "['tomate', 'laranja', 'cebola']\n",
            "['cola', 'suco ', 'suco']\n",
            "['tomate', 'laranja', 'cebola']\n",
            "['pimenta']\n",
            "['macarrão', 'torta', 'açafrão']\n",
            "0\n",
            "1\n",
            "2\n",
            "3\n",
            "4\n"
          ]
        }
      ]
    },
    {
      "cell_type": "code",
      "source": [],
      "metadata": {
        "id": "Ozw7AQcDoukW"
      },
      "execution_count": null,
      "outputs": []
    },
    {
      "cell_type": "code",
      "source": [],
      "metadata": {
        "id": "v3QMuyFnpKoX"
      },
      "execution_count": null,
      "outputs": []
    }
  ]
}