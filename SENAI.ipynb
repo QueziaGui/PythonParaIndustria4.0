{
  "nbformat": 4,
  "nbformat_minor": 0,
  "metadata": {
    "colab": {
      "provenance": [],
      "authorship_tag": "ABX9TyOivQqa/qDn0O3OraGGUcFb",
      "include_colab_link": true
    },
    "kernelspec": {
      "name": "python3",
      "display_name": "Python 3"
    },
    "language_info": {
      "name": "python"
    }
  },
  "cells": [
    {
      "cell_type": "markdown",
      "metadata": {
        "id": "view-in-github",
        "colab_type": "text"
      },
      "source": [
        "<a href=\"https://colab.research.google.com/github/QueziaGui/PythonParaIndustria4.0/blob/main/SENAI.ipynb\" target=\"_parent\"><img src=\"https://colab.research.google.com/assets/colab-badge.svg\" alt=\"Open In Colab\"/></a>"
      ]
    },
    {
      "cell_type": "code",
      "execution_count": null,
      "metadata": {
        "id": "8eL8VclNmmGp"
      },
      "outputs": [],
      "source": []
    },
    {
      "cell_type": "code",
      "source": [
        "\n",
        " lista_lista= [['cola','suco ','suco'], ['tomate', 'laranja', 'cebola'], ['mamap', 'coloral','alho']]\n",
        "sorted(lista_lista)\n",
        "del(lista_lista[2])\n",
        "print(lista_lista)\n",
        "lista_lista.insert(0, ['tomate', 'laranja', 'cebola'])\n",
        "print(lista_lista)\n",
        "\n",
        "lista_lista.append(['pimenta'])\n",
        "lista_lista.append(['macarrão', 'torta', açafrão])\n",
        "for item in lista_lista:\n",
        "  print(item)\n",
        "print(\"-----\")\n",
        "for item in lista_lista:\n",
        "  print(item)\n",
        "\n",
        "# Changed: Call the 'range' function instead of 'rage'\n",
        "for i in range(5):\n",
        "  print(i)\n",
        "for item in lista_lista:\n",
        "  print(item)\n",
        "\n",
        "\n"
      ],
      "metadata": {
        "colab": {
          "base_uri": "https://localhost:8080/",
          "height": 245
        },
        "id": "OaaKO5l0mv0o",
        "outputId": "fb53bc91-193b-4eba-fc26-28cba405f2cf"
      },
      "execution_count": 49,
      "outputs": [
        {
          "output_type": "stream",
          "name": "stdout",
          "text": [
            "[['cola', 'suco ', 'suco'], ['tomate', 'laranja', 'cebola']]\n",
            "[['tomate', 'laranja', 'cebola'], ['cola', 'suco ', 'suco'], ['tomate', 'laranja', 'cebola']]\n"
          ]
        },
        {
          "output_type": "error",
          "ename": "NameError",
          "evalue": "name 'açafrão' is not defined",
          "traceback": [
            "\u001b[0;31m---------------------------------------------------------------------------\u001b[0m",
            "\u001b[0;31mNameError\u001b[0m                                 Traceback (most recent call last)",
            "\u001b[0;32m<ipython-input-49-841c6581c276>\u001b[0m in \u001b[0;36m<cell line: 0>\u001b[0;34m()\u001b[0m\n\u001b[1;32m      7\u001b[0m \u001b[0;34m\u001b[0m\u001b[0m\n\u001b[1;32m      8\u001b[0m \u001b[0mlista_lista\u001b[0m\u001b[0;34m.\u001b[0m\u001b[0mappend\u001b[0m\u001b[0;34m(\u001b[0m\u001b[0;34m[\u001b[0m\u001b[0;34m'pimenta'\u001b[0m\u001b[0;34m]\u001b[0m\u001b[0;34m)\u001b[0m\u001b[0;34m\u001b[0m\u001b[0;34m\u001b[0m\u001b[0m\n\u001b[0;32m----> 9\u001b[0;31m \u001b[0mlista_lista\u001b[0m\u001b[0;34m.\u001b[0m\u001b[0mappend\u001b[0m\u001b[0;34m(\u001b[0m\u001b[0;34m[\u001b[0m\u001b[0;34m'macarrão'\u001b[0m\u001b[0;34m,\u001b[0m \u001b[0;34m'torta'\u001b[0m\u001b[0;34m,\u001b[0m \u001b[0maçafrão\u001b[0m\u001b[0;34m]\u001b[0m\u001b[0;34m)\u001b[0m\u001b[0;34m\u001b[0m\u001b[0;34m\u001b[0m\u001b[0m\n\u001b[0m\u001b[1;32m     10\u001b[0m \u001b[0;32mfor\u001b[0m \u001b[0mitem\u001b[0m \u001b[0;32min\u001b[0m \u001b[0mlista_lista\u001b[0m\u001b[0;34m:\u001b[0m\u001b[0;34m\u001b[0m\u001b[0;34m\u001b[0m\u001b[0m\n\u001b[1;32m     11\u001b[0m  \u001b[0mprint\u001b[0m\u001b[0;34m(\u001b[0m\u001b[0mitem\u001b[0m\u001b[0;34m)\u001b[0m\u001b[0;34m\u001b[0m\u001b[0;34m\u001b[0m\u001b[0m\n",
            "\u001b[0;31mNameError\u001b[0m: name 'açafrão' is not defined"
          ]
        }
      ]
    },
    {
      "source": [
        "lista_lista= [['cola','suco ','suco'], ['tomate', 'laranja', 'cebola'], ['mamap', 'coloral','alho']]\n",
        "sorted(lista_lista)\n",
        "del(lista_lista[2])\n",
        "print(lista_lista)\n",
        "lista_lista.insert(0, ['tomate', 'laranja', 'cebola'])\n",
        "print(lista_lista)\n",
        "\n",
        "lista_lista.append(['pimenta'])\n",
        "# Changed: Added quotes around 'açafrão' to make it a string literal\n",
        "lista_lista.append(['macarrão', 'torta', 'açafrão'])\n",
        "for item in lista_lista:\n",
        "  print(item)\n",
        "print(\"-----\")\n",
        "for item in lista_lista:\n",
        "  print(item)\n",
        "\n",
        "# Changed: Call the 'range' function instead of 'rage'\n",
        "for i in range(5):\n",
        "  print(i)\n",
        "for item in lista_lista:\n",
        "  print(item)"
      ],
      "cell_type": "code",
      "metadata": {
        "colab": {
          "base_uri": "https://localhost:8080/"
        },
        "id": "8rkzYwhm5O46",
        "outputId": "1cbc49f8-9073-4f72-98fd-330f6719d360"
      },
      "execution_count": 51,
      "outputs": [
        {
          "output_type": "stream",
          "name": "stdout",
          "text": [
            "[['cola', 'suco ', 'suco'], ['tomate', 'laranja', 'cebola']]\n",
            "[['tomate', 'laranja', 'cebola'], ['cola', 'suco ', 'suco'], ['tomate', 'laranja', 'cebola']]\n",
            "['tomate', 'laranja', 'cebola']\n",
            "['cola', 'suco ', 'suco']\n",
            "['tomate', 'laranja', 'cebola']\n",
            "['pimenta']\n",
            "['macarrão', 'torta', 'açafrão']\n",
            "-----\n",
            "['tomate', 'laranja', 'cebola']\n",
            "['cola', 'suco ', 'suco']\n",
            "['tomate', 'laranja', 'cebola']\n",
            "['pimenta']\n",
            "['macarrão', 'torta', 'açafrão']\n",
            "0\n",
            "1\n",
            "2\n",
            "3\n",
            "4\n",
            "['tomate', 'laranja', 'cebola']\n",
            "['cola', 'suco ', 'suco']\n",
            "['tomate', 'laranja', 'cebola']\n",
            "['pimenta']\n",
            "['macarrão', 'torta', 'açafrão']\n"
          ]
        }
      ]
    },
    {
      "cell_type": "code",
      "source": [
        "rage"
      ],
      "metadata": {
        "id": "IgHK8AI5zX5Q"
      },
      "execution_count": null,
      "outputs": []
    },
    {
      "source": [
        "lista_lista= [['cola','suco ','suco'], ['tomate', 'laranja', 'cebola'], ['mamap', 'coloral','alho']]\n",
        "sorted(lista_lista)\n",
        "del(lista_lista[2])\n",
        "print(lista_lista)\n",
        "lista_lista.insert(0, ['tomate', 'laranja', 'cebola'])\n",
        "print(lista_lista)\n",
        "\n",
        "lista_lista.append(['pimenta'])\n",
        "lista_lista.append(['macarrão', 'torta', 'açafrão'])\n",
        "for item in lista_lista:\n",
        "  print(item)\n",
        "print(\"-----\")\n",
        "for item in lista_lista:\n",
        "  print(item)\n",
        "\n",
        "# Changed: Call the 'range' function instead of 'rage'\n",
        "for i in range(5):\n",
        "  print(i)"
      ],
      "cell_type": "code",
      "metadata": {
        "colab": {
          "base_uri": "https://localhost:8080/"
        },
        "id": "WlesnsCG09oo",
        "outputId": "76232abb-6165-4cc7-ffa3-7ae6a0130987"
      },
      "execution_count": 50,
      "outputs": [
        {
          "output_type": "stream",
          "name": "stdout",
          "text": [
            "[['cola', 'suco ', 'suco'], ['tomate', 'laranja', 'cebola']]\n",
            "[['tomate', 'laranja', 'cebola'], ['cola', 'suco ', 'suco'], ['tomate', 'laranja', 'cebola']]\n",
            "['tomate', 'laranja', 'cebola']\n",
            "['cola', 'suco ', 'suco']\n",
            "['tomate', 'laranja', 'cebola']\n",
            "['pimenta']\n",
            "['macarrão', 'torta', 'açafrão']\n",
            "-----\n",
            "['tomate', 'laranja', 'cebola']\n",
            "['cola', 'suco ', 'suco']\n",
            "['tomate', 'laranja', 'cebola']\n",
            "['pimenta']\n",
            "['macarrão', 'torta', 'açafrão']\n",
            "0\n",
            "1\n",
            "2\n",
            "3\n",
            "4\n"
          ]
        }
      ]
    },
    {
      "cell_type": "code",
      "source": [],
      "metadata": {
        "id": "Ozw7AQcDoukW"
      },
      "execution_count": null,
      "outputs": []
    },
    {
      "cell_type": "code",
      "source": [
        "pasta = list(\"12365478963258741\")\n",
        "print(pasta)\n",
        "del pasta[3]\n",
        "print(pasta)\n",
        "\n",
        "\n",
        "\n",
        "\n",
        "frutas = [\"papaia\",\n",
        "         \"morango\",\n",
        "         \"manga\",\n",
        "         \"caja\",\n",
        "         \"limão\"]\n",
        "print(frutas)\n",
        "if \"abacate\" in frutas:\n",
        "  print (\"Existe!\")\n",
        "else:\n",
        "  print(\"Elemento não existe!\")\n",
        "\n",
        "\n",
        "\n",
        "frutas = [\"papaia\",\n",
        "         \"morango\",\n",
        "         \"manga\",\n",
        "         \"caja\",\n",
        "         \"limão\"]\n",
        "print(frutas)\n",
        "if \"abacate\" in frutas:\n",
        "  print (\"Existe!\")\n",
        "else:\n",
        "  print(\"Elemento não existe!\")"
      ],
      "metadata": {
        "colab": {
          "base_uri": "https://localhost:8080/"
        },
        "id": "v3QMuyFnpKoX",
        "outputId": "8319870d-c2f3-4fbf-82fd-899e5c08d4c4"
      },
      "execution_count": 74,
      "outputs": [
        {
          "output_type": "stream",
          "name": "stdout",
          "text": [
            "['1', '2', '3', '6', '5', '4', '7', '8', '9', '6', '3', '2', '5', '8', '7', '4', '1']\n",
            "['1', '2', '3', '5', '4', '7', '8', '9', '6', '3', '2', '5', '8', '7', '4', '1']\n",
            "['papaia', 'morango', 'manga', 'caja', 'limão']\n",
            "Elemento não existe!\n",
            "['papaia', 'morango', 'manga', 'caja', 'limão']\n",
            "Elemento não existe!\n"
          ]
        }
      ]
    },
    {
      "cell_type": "code",
      "source": [],
      "metadata": {
        "id": "zgH6gV29-N4g"
      },
      "execution_count": null,
      "outputs": []
    },
    {
      "cell_type": "markdown",
      "source": [
        "Copiando e/ clonando listas"
      ],
      "metadata": {
        "id": "lvmeY_7n-QVJ"
      }
    },
    {
      "cell_type": "code",
      "source": [
        "lista_frutas = ['papaia', 'morango', 'manga', 'caja', 'limão']\n",
        "print (lista_frutas)"
      ],
      "metadata": {
        "colab": {
          "base_uri": "https://localhost:8080/"
        },
        "id": "wt2LS8hQ-RR-",
        "outputId": "373adf9a-2945-432c-ff3f-c899b06a7600"
      },
      "execution_count": 75,
      "outputs": [
        {
          "output_type": "stream",
          "name": "stdout",
          "text": [
            "['papaia', 'morango', 'manga', 'caja', 'limão']\n"
          ]
        }
      ]
    },
    {
      "cell_type": "markdown",
      "source": [
        "Copoiar todos os elementos de uma lista e colocar em outra."
      ],
      "metadata": {
        "id": "7_11DkXz_Loa"
      }
    },
    {
      "cell_type": "code",
      "source": [
        "lista_frutas = ['papaia', 'morango', 'manga', 'caja', 'limão']\n",
        "print (lista_frutas)\n",
        "\n",
        "lista_compra = lista_frutas[:]\n",
        "print(lista_compra)"
      ],
      "metadata": {
        "colab": {
          "base_uri": "https://localhost:8080/"
        },
        "id": "F2YJ0LQA_SH2",
        "outputId": "ec169760-985e-42ba-a535-8ae9cff2e204"
      },
      "execution_count": 76,
      "outputs": [
        {
          "output_type": "stream",
          "name": "stdout",
          "text": [
            "['papaia', 'morango', 'manga', 'caja', 'limão']\n",
            "['papaia', 'morango', 'manga', 'caja', 'limão']\n"
          ]
        }
      ]
    },
    {
      "cell_type": "markdown",
      "source": [
        "Agora vamos apagar um elemento da lista de compras"
      ],
      "metadata": {
        "id": "u58-H68i_9FH"
      }
    },
    {
      "cell_type": "code",
      "source": [
        "from keyword import kwlist\n",
        "lista_frutas = ['papaia', 'morango', 'manga', 'caja', 'limão']\n",
        "lista_compra = lista_frutas[:]\n",
        "print(lista_compra)\n",
        "del lista_compra[4]\n",
        "print(lista_compra)"
      ],
      "metadata": {
        "colab": {
          "base_uri": "https://localhost:8080/"
        },
        "id": "TkixGfn_AA2B",
        "outputId": "271cc8ed-5b9f-4643-e273-c8c5188a6083"
      },
      "execution_count": 82,
      "outputs": [
        {
          "output_type": "stream",
          "name": "stdout",
          "text": [
            "['papaia', 'morango', 'manga', 'caja', 'limão']\n",
            "['papaia', 'morango', 'manga', 'caja']\n"
          ]
        }
      ]
    }
  ]
}